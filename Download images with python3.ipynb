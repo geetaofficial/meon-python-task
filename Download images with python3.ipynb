{
 "cells": [
  {
   "cell_type": "markdown",
   "id": "60d1db10",
   "metadata": {},
   "source": []
  },
  {
   "cell_type": "code",
   "execution_count": 12,
   "id": "58d216c9",
   "metadata": {},
   "outputs": [],
   "source": [
    "from selenium.webdriver import Firefox\n",
    "from selenium.webdriver.firefox.service import Service\n",
    "from selenium.webdriver.common.by import By\n",
    "ser = Service(\"C:\\\\Users\\\\Geeta\\\\Downloads\\\\geckodriver-v0.30.0-win64\\\\geckodriver.exe\")"
   ]
  },
  {
   "cell_type": "markdown",
   "id": "f8301dc6",
   "metadata": {},
   "source": [
    "## Initiate firefox and search for cat"
   ]
  },
  {
   "cell_type": "code",
   "execution_count": 13,
   "id": "826c7fed",
   "metadata": {},
   "outputs": [],
   "source": [
    "browser = Firefox(service=ser)\n",
    "browser.get('https://www.google.com/search?q=cat&tbm=isch')"
   ]
  },
  {
   "cell_type": "markdown",
   "id": "5e3a591c",
   "metadata": {},
   "source": [
    "## Get all the images from search result"
   ]
  },
  {
   "cell_type": "code",
   "execution_count": 14,
   "id": "05bf1b5c",
   "metadata": {},
   "outputs": [],
   "source": [
    "img_list = browser.find_elements(By.CLASS_NAME,'rg_i')"
   ]
  },
  {
   "cell_type": "markdown",
   "id": "12920eba",
   "metadata": {},
   "source": [
    "## Create a directory"
   ]
  },
  {
   "cell_type": "code",
   "execution_count": 18,
   "id": "c02694d7",
   "metadata": {},
   "outputs": [],
   "source": [
    "from pathlib import Path\n",
    "dir_name = \"google_cat_img/\"\n",
    "p = Path(dir_name)\n",
    "p.mkdir(parents=True, exist_ok=True)"
   ]
  },
  {
   "cell_type": "markdown",
   "id": "03f83675",
   "metadata": {},
   "source": [
    "## Download images to the Directory"
   ]
  },
  {
   "cell_type": "code",
   "execution_count": 10,
   "id": "fff6eed2",
   "metadata": {},
   "outputs": [],
   "source": [
    "\n",
    "for i, img in enumerate(img_list):\n",
    "    file_name = dir_name + f'image_{i}.png'\n",
    "    with open(file_name,'wb') as f:\n",
    "        f.write(img.screenshot_as_png)"
   ]
  },
  {
   "cell_type": "code",
   "execution_count": 11,
   "id": "ca73cf9a",
   "metadata": {},
   "outputs": [],
   "source": [
    "browser.close()"
   ]
  }
 ],
 "metadata": {
  "kernelspec": {
   "display_name": "Python 3",
   "language": "python",
   "name": "python3"
  },
  "language_info": {
   "codemirror_mode": {
    "name": "ipython",
    "version": 3
   },
   "file_extension": ".py",
   "mimetype": "text/x-python",
   "name": "python",
   "nbconvert_exporter": "python",
   "pygments_lexer": "ipython3",
   "version": "3.9.5"
  }
 },
 "nbformat": 4,
 "nbformat_minor": 5
}
